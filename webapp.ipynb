{
 "cells": [
  {
   "cell_type": "markdown",
   "metadata": {},
   "source": [
    "### Web App Using Streamlit"
   ]
  },
  {
   "cell_type": "code",
   "execution_count": null,
   "metadata": {},
   "outputs": [],
   "source": [
    "#pip install joblib"
   ]
  },
  {
   "cell_type": "code",
   "execution_count": 1,
   "metadata": {},
   "outputs": [
    {
     "name": "stdout",
     "output_type": "stream",
     "text": [
      "Requirement already satisfied: protobuf in c:\\users\\acumu\\anaconda3\\envs\\learn-env\\lib\\site-packages (3.11.2)\n",
      "Collecting protobuf\n",
      "  Downloading protobuf-3.17.3-cp38-cp38-win_amd64.whl (909 kB)\n",
      "Requirement already satisfied: six>=1.9 in c:\\users\\acumu\\anaconda3\\envs\\learn-env\\lib\\site-packages (from protobuf) (1.15.0)\n",
      "Installing collected packages: protobuf\n",
      "  Attempting uninstall: protobuf\n",
      "    Found existing installation: protobuf 3.11.2\n",
      "    Uninstalling protobuf-3.11.2:\n",
      "      Successfully uninstalled protobuf-3.11.2\n",
      "Successfully installed protobuf-3.17.3\n",
      "Note: you may need to restart the kernel to use updated packages.\n"
     ]
    },
    {
     "name": "stderr",
     "output_type": "stream",
     "text": [
      "ERROR: pip's dependency resolver does not currently take into account all the packages that are installed. This behaviour is the source of the following dependency conflicts.\n",
      "tensorflow 2.5.0 requires grpcio~=1.34.0, but you have grpcio 1.38.1 which is incompatible.\n",
      "tensorflow 2.5.0 requires numpy~=1.19.2, but you have numpy 1.21.1 which is incompatible.\n",
      "tensorflow 2.5.0 requires typing-extensions~=3.7.4, but you have typing-extensions 3.10.0.0 which is incompatible.\n",
      "WARNING: You are using pip version 21.1.3; however, version 21.2.2 is available.\n",
      "You should consider upgrading via the 'C:\\Users\\acumu\\anaconda3\\envs\\learn-env\\python.exe -m pip install --upgrade pip' command.\n"
     ]
    }
   ],
   "source": [
    "#pip install --upgrade protobuf"
   ]
  },
  {
   "cell_type": "code",
   "execution_count": 2,
   "metadata": {},
   "outputs": [],
   "source": [
    "import streamlit as st\n",
    "import joblib,os\n",
    "\n",
    "# NLP Pkgs\n",
    "#import spacy\n",
    "\n",
    "#Wordcloud"
   ]
  },
  {
   "cell_type": "code",
   "execution_count": null,
   "metadata": {},
   "outputs": [],
   "source": [
    "def main():\n",
    "    ###News Classifier App with Streamlit \"\"\"\n",
    "    st.title(\"Fake News Classifier ML App\")\n",
    "    st.subheader(\"NLP and ML App with Streamlit\")\n",
    "\n",
    "    activities = [\"Prediction\"]\n",
    "    st.sidebar.selectbox(\"Choose Activity\", activities)\n",
    "    \n",
    "    if choice == 'Prediction':\n",
    "        st.info(\"Prediction with ML\")\n",
    "        \n",
    "        news_text = st.text_area(\"Enter Text\", \"Type Here\")\n",
    "        \n",
    "        all_ml_models = [\"LR\", \"NB\", \"RFOREST\", \"VC\"]\n",
    "        model_choice = st.selectbox(\"Choose ML Model\", all_ml_models)\n",
    "        prediction_labels = {'fake': 0, 'real': 1}\n",
    "        if st.button(\"Classify\"):\n",
    "            st.text(\"Original test ::{}\".format(news_text))\n",
    "        \n",
    "    \n",
    "if __name__ == '__main__':\n",
    "    main()"
   ]
  }
 ],
 "metadata": {
  "kernelspec": {
   "display_name": "Python (learn-env)",
   "language": "python",
   "name": "learn-env"
  },
  "language_info": {
   "codemirror_mode": {
    "name": "ipython",
    "version": 3
   },
   "file_extension": ".py",
   "mimetype": "text/x-python",
   "name": "python",
   "nbconvert_exporter": "python",
   "pygments_lexer": "ipython3",
   "version": "3.8.5"
  }
 },
 "nbformat": 4,
 "nbformat_minor": 4
}
